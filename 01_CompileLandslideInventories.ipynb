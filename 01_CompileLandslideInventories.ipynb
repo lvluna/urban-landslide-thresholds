{
 "cells": [
  {
   "cell_type": "markdown",
   "id": "80d87eb3",
   "metadata": {},
   "source": [
    "# 01 - Compile Landslide Inventories"
   ]
  },
  {
   "cell_type": "markdown",
   "id": "b6953ab3",
   "metadata": {},
   "source": [
    "This notebook: \n",
    "\n",
    "- Reads original landslide inventory data from 10 publicly available landslide inventories\n",
    "- Converts all inventories to a common format, assigning a trigger, type, material, and spatial uncertainty where possible\n",
    "- Binds formatted inventories into a global compilation \n",
    "- Identifies which landslides occurred in urban areas according to the GHS-UCDB\n",
    "- Removes duplicates between inventories\n",
    "- Assigns time stamps in UTC\n",
    "- Subsets global compilation to landslides that have a documented rainfall trigger, date, and occurred in urban areas for further analysis\n",
    "\n",
    "The outputs of this notebook are: \n",
    "- ls_urban_ts_rf_u.pkl, a global compilation of rainfall triggered urban landslides with daily timestamps, which is read into 02_IdentifyGauges\n",
    "- nls_rf_per_city_plot.csv, the number of landslides in each city for making Figure 1."
   ]
  },
  {
   "cell_type": "markdown",
   "id": "ddd4a763",
   "metadata": {},
   "source": [
    "**Original data required:**\n",
    "\n",
    "**Landslide inventories**\n",
    "\n",
    "*see code below for citations, access, version, and licensing information*\n",
    "\n",
    "- NASA Global Landslide Catalog\n",
    "- Global Fatal Landslide Database V2\n",
    "- Geoscience Australia Landslide Search\n",
    "- Landslide and Torrential Colombia Database\n",
    "- FraneItalia V3\n",
    "- GNS New Zealand Landslide Database\n",
    "- Landslide Inventory Rwanda\n",
    "- Kentucky Geological Survey Landslide Inventory\n",
    "- Digital Data Series DGS06-3 Landslides in New Jersey\n",
    "- Seattle Historic Landslide Locations ECA\n",
    "\n",
    "**Urban areas**\n",
    "\n",
    "- Global Human Settlement Layer Urban Centre Database\n",
    "\n",
    "\n",
    "\n"
   ]
  },
  {
   "cell_type": "code",
   "execution_count": null,
   "id": "e05a2cbc",
   "metadata": {},
   "outputs": [],
   "source": [
    "import geopandas as gpd\n",
    "import pandas as pd\n",
    "import matplotlib.pyplot as plt\n",
    "import numpy as np\n",
    "import datetime\n",
    "import pyproj\n",
    "import shapely\n",
    "from shapely.ops import transform\n",
    "from timezonefinder import TimezoneFinder"
   ]
  },
  {
   "cell_type": "code",
   "execution_count": null,
   "id": "7f0ab0fd",
   "metadata": {},
   "outputs": [],
   "source": [
    "#world map baselayer\n",
    "world = gpd.read_file(gpd.datasets.get_path('naturalearth_lowres'))"
   ]
  },
  {
   "cell_type": "code",
   "execution_count": null,
   "id": "c14a29e3",
   "metadata": {},
   "outputs": [],
   "source": [
    "def plot_lsinv(lsinv, title):\n",
    "    \n",
    "    \"\"\"\n",
    "    Plot a landslide inventory on a world map along with an annual time series of landslide counts.\n",
    "    \n",
    "    lsinv = geopandas dataframe with the landslide inventory.  Should have a daily date time index.\n",
    "    title = title for the plot    \n",
    "    \n",
    "    \"\"\"\n",
    "    \n",
    "    fig, ax = plt.subplots(2,1, figsize = (11, 9), gridspec_kw = {'height_ratios': [3,1]})\n",
    "    \n",
    "    colors = plt.cm.get_cmap('tab20')\n",
    "    \n",
    "    cidx = np.random.randint(0, 19)\n",
    "\n",
    "    try:\n",
    "    \n",
    "        world.to_crs(\"ESRI:54009\").plot(facecolor = '#F5F5F5',\n",
    "                    edgecolor = 'darkgrey', \n",
    "                  ax = ax[0])\n",
    "    \n",
    "    except: \n",
    "        \n",
    "        world = gpd.read_file(gpd.datasets.get_path('naturalearth_lowres'))\n",
    "        \n",
    "        world.to_crs(\"ESRI:54009\").plot(facecolor = '#F5F5F5',\n",
    "                    edgecolor = 'darkgrey', \n",
    "                  ax = ax[0])\n",
    "        \n",
    "    \n",
    "    #plot all the landslides in the inventory\n",
    "    lsinv.to_crs(\"ESRI:54009\").plot(ax = ax[0], \n",
    "                                                         alpha = 0.3, \n",
    "                                                         markersize = 5, \n",
    "                                                         color = 'darkgrey')\n",
    "\n",
    "    #only plot the landslides with daily time stamps\n",
    "    lsinv[lsinv.index.notna()].to_crs(\"ESRI:54009\").plot(ax = ax[0], \n",
    "                                                          alpha = 0.5, \n",
    "                                                          markersize = 5, \n",
    "                                                        color = colors(cidx))\n",
    "\n",
    "    ax[0].set_title(title, fontsize = 16, fontweight = 'bold')\n",
    "    \n",
    "    ax[0].tick_params(left=False,\n",
    "                bottom=False,\n",
    "                labelleft=False,\n",
    "                labelbottom=False)\n",
    "    \n",
    "    #also add an annual time series of the daily time stamped landslides\n",
    "    \n",
    "    yts = lsinv[lsinv.index.notna()].resample('Y').count().iloc[:,0]\n",
    "    \n",
    "    ax[1].bar(x = yts.index.year,\n",
    "                height = yts.values,\n",
    "                width = 0.8, \n",
    "                  color = colors(cidx))\n",
    "    \n",
    "    ax[1].set_ylabel('Annual landslides')\n",
    "    \n",
    "    fig.tight_layout()\n",
    "    \n",
    "    return fig, ax\n",
    "    "
   ]
  },
  {
   "cell_type": "code",
   "execution_count": null,
   "id": "1cf9484b",
   "metadata": {},
   "outputs": [],
   "source": [
    "def dict_othercols(row, diff):\n",
    "    \"\"\"\n",
    "    Make a dictionary out of all the original columns in the original landslide inventory \n",
    "    to put in one column of the simplified inventory\n",
    "    \n",
    "    row = row of simplified dataframe (must have same length and index as the diff dataframe)\n",
    "    diff = dataframe with the extra info that should be put in the dictionary for safekeeping\n",
    "\n",
    "    \"\"\"\n",
    "    \n",
    "    #put all values for this entry in the original inventory into a dictionary\n",
    "    d = dict(diff.loc[row.name])\n",
    "    \n",
    "    return d\n",
    "    \n",
    "\n"
   ]
  },
  {
   "cell_type": "code",
   "execution_count": null,
   "id": "7e3cdfac",
   "metadata": {},
   "outputs": [],
   "source": [
    "def simplify_inventory(inventorydf, \n",
    "                      inventoryname, \n",
    "                      inventory_id, \n",
    "                      trigger, \n",
    "                      lstype,\n",
    "                      material,\n",
    "                      spat_unc, \n",
    "                      src_url, \n",
    "                      date_accessed, \n",
    "                      citation, \n",
    "                      license):\n",
    "    \n",
    "    \"\"\"\n",
    "    Takes a landslide inventory dataframe and makes a simplified, standard format landslide inventory dataframe\n",
    "    out of it that can be combined with other inventories\n",
    "    \n",
    "    inventorydf = Geopandas dataframe containing at the least a geometry and \"DATE\" column \n",
    "    inventoryname = string with a descriptive name (e.g. \"NASA GLC\")\n",
    "    inventory_id = name of column in original dataframe with a unique ID, or None\n",
    "    trigger = name of column in original dataframe with the trigger, or None\n",
    "    lstype = name of column in original dataframe with the type of landslide, or None\n",
    "    spat_unc = name of column in original dataframe with the spatial uncertainty, or None\n",
    "    src_url = string with url where data was downloaded from \n",
    "    date_accessed = string with date when data with downloaded in \"YYYYmmdd\" format\n",
    "    citation = string with citation \n",
    "    license = string with type of license for the data   \n",
    "    \"\"\"\n",
    "    \n",
    "    \n",
    "    #uniform naming\n",
    "    inventorydf['inventory'] = inventoryname\n",
    "    \n",
    "    if inventorydf[inventory_id] is None:\n",
    "        inventorydf['inventory_id'] = None\n",
    "    else: \n",
    "        inventorydf['inventory_id'] = inventorydf[inventory_id]\n",
    "    \n",
    "    \n",
    "    inventorydf['inventory_id_name'] = inventory_id\n",
    "    \n",
    "    if trigger is None:\n",
    "        inventorydf['trigger'] = None\n",
    "    else: \n",
    "        inventorydf['trigger'] = inventorydf[trigger]\n",
    "    \n",
    "    if lstype is None: \n",
    "        inventorydf['type'] = None\n",
    "    else:\n",
    "        inventorydf['type'] = inventorydf[lstype]\n",
    "        \n",
    "    if material is None: \n",
    "        inventorydf['material'] = None\n",
    "    else:\n",
    "        inventorydf['material'] = inventorydf[material]\n",
    "            \n",
    "    if spat_unc is None: \n",
    "        inventorydf['spat_unc'] = None\n",
    "    else:\n",
    "        inventorydf['spat_unc'] = inventorydf[spat_unc]\n",
    "        \n",
    "    inventorydf['src_url'] = src_url\n",
    "    inventorydf['date_accessed'] = pd.to_datetime(date_accessed, format = '%Y%m%d')\n",
    "    inventorydf['citation'] = citation\n",
    "    inventorydf['license'] = license\n",
    "\n",
    "\n",
    "    #simplify\n",
    "\n",
    "    inventorydf_s = inventorydf.loc[:, ['inventory', 'src_index', 'inventory_id', 'inventory_id_name', \n",
    "                                'trigger', 'type', 'material', 'spat_unc', 'DATE', 'geometry', \n",
    "                                'src_url', 'date_accessed', 'citation', 'license']]\n",
    "\n",
    "    #get all columns that aren't in the simplifed version\n",
    "\n",
    "    diff = inventorydf.loc[:,inventorydf.columns.difference(inventorydf_s.columns)]\n",
    "\n",
    "    #and put them in a dictionary in the simple dataframe \n",
    "\n",
    "    inventorydf_s['other'] = inventorydf_s.apply(lambda row:dict_othercols(row, diff), axis = 1)\n",
    "    \n",
    "    return inventorydf_s\n",
    " \n",
    "    \n",
    "    "
   ]
  },
  {
   "cell_type": "code",
   "execution_count": null,
   "id": "b4e995b6",
   "metadata": {},
   "outputs": [],
   "source": [
    "#define common nomenclature for triggers, types, material, and spatial_uncertainty\n",
    "\n",
    "triggers = ['Precipitation', \n",
    "            'Earthquake', \n",
    "            'Volcano', \n",
    "            'Human Activity', \n",
    "            'Other', \n",
    "            'Unknown']\n",
    "\n",
    "types = ['Fall', \n",
    "        'Topple', \n",
    "         'Slide', \n",
    "        'Spread', \n",
    "        'Flow', \n",
    "        'Complex', \n",
    "         'Other',\n",
    "        'Unknown']\n",
    "\n",
    "\n",
    "material = ['Rock', \n",
    "           'Debris', \n",
    "           'Earth', \n",
    "           'Other', \n",
    "           'Unknown']\n",
    "\n",
    "spatial_uncertainty = ['Exact', \n",
    "                      '<1km',\n",
    "                      '<5km',\n",
    "                      '<10km', \n",
    "                      '<25km',\n",
    "                      '<50km', \n",
    "                       '<100km', \n",
    "                      '<250km',\n",
    "                       '>250km',\n",
    "                       'Unknown']"
   ]
  },
  {
   "cell_type": "markdown",
   "id": "db42f888",
   "metadata": {},
   "source": [
    "# Global inventories"
   ]
  },
  {
   "cell_type": "markdown",
   "id": "a38c08ae",
   "metadata": {},
   "source": [
    "### NASA Global Landslide Catalog"
   ]
  },
  {
   "cell_type": "code",
   "execution_count": null,
   "id": "7cd7baee",
   "metadata": {},
   "outputs": [],
   "source": [
    "nasaglc = gpd.read_file('../nasa_global_landslide_catalog.gdb', \n",
    "                       layer = 'nasa_global_landslide_catalog_point')\n"
   ]
  },
  {
   "cell_type": "code",
   "execution_count": null,
   "id": "f5d86dbe",
   "metadata": {},
   "outputs": [],
   "source": [
    "#convert landslide time to datetime \n",
    "nasaglc['DATE'] = pd.to_datetime(nasaglc['event_date'])\n",
    "\n",
    "#preserve original index\n",
    "nasaglc['src_index'] = nasaglc.index\n",
    "\n",
    "#reset index to  make sure we have unique and monotonic values\n",
    "nasaglc.reset_index(inplace = True, drop = True)\n",
    "\n",
    "#check if the crs is WGS84, and if not, reproject it\n",
    "\n",
    "if nasaglc.crs != 'EPSG:4326':\n",
    "    nasaglc.to_crs('EPSG:4326', inplace = True)\n",
    "    "
   ]
  },
  {
   "cell_type": "code",
   "execution_count": null,
   "id": "0a0eb5c8",
   "metadata": {},
   "outputs": [],
   "source": [
    "#assign triggers to uniform naming scheme\n",
    "\n",
    "nasa_trigger_map = {'downpour':'Precipitation',\n",
    "                    'earthquake':'Earthquake',\n",
    "                    'unknown':'Unknown',\n",
    "                    'tropical_cyclone':'Precipitation',\n",
    "                    'rain':'Precipitation',\n",
    "                    'snowfall_snowmelt':'Other',\n",
    "                    'continuous_rain':'Precipitation',\n",
    "                    'monsoon':'Precipitation',\n",
    "                    'freeze_thaw':'Other',\n",
    "                    'mining':'Human Activity',\n",
    "                    'no_apparent_trigger':'Other',\n",
    "                    'flooding':'Other',\n",
    "                    'construction':'Human Activity',\n",
    "                    'leaking_pipe':'Human Activity',\n",
    "                    'Unknown':'Unknown',\n",
    "                    'Downpour':'Precipitation',\n",
    "                    'other':'Other',\n",
    "                    'dam_embankment_collapse':'Other',\n",
    "                    'volcano':'Volcano',\n",
    "                    'Other':'Other',\n",
    "                    'vibration':'Human Activity',\n",
    "                    None:'Unknown',\n",
    "                    'Flooding':'Other'}\n",
    "\n",
    "\n",
    "nasaglc['trigger'] = nasaglc.apply(lambda row:nasa_trigger_map[row['landslide_trigger']], axis = 1)\n"
   ]
  },
  {
   "cell_type": "code",
   "execution_count": null,
   "id": "4f537def",
   "metadata": {},
   "outputs": [],
   "source": [
    "#assign type to uniform naming scheme\n",
    "\n",
    "nasa_type_map = {'landslide':'Slide', \n",
    "                 'rock_fall':'Fall', \n",
    "                 'mudslide':'Slide', \n",
    "                 'unknown':'Unknown', \n",
    "                 'debris_flow':'Flow',\n",
    "                 'riverbank_collapse':'Slide',\n",
    "                 'complex':'Complex',\n",
    "                 'other':'Other',\n",
    "                 'earth_flow':'Flow',\n",
    "                 'rotational_slide':'Slide',\n",
    "                 'Riverbank collapse':'Slide',\n",
    "                 'Rock fall':'Fall',\n",
    "                 'Unknown':'Unknown',\n",
    "                 'Mudslide':'Slide',\n",
    "                 'snow_avalanche':'Other',\n",
    "                 'translational_slide':'Slide',\n",
    "                 'creep':'Other',\n",
    "                 'Landslide':'Slide',\n",
    "                 'Rotational slide':'Slide',\n",
    "                 'lahar':'Flow',\n",
    "                 None:'Unknown',\n",
    "                 'Other':'Other',\n",
    "                 'Complex':'Complex',\n",
    "                 'topple':'Topple',\n",
    "                 'Rock slide':'Slide',\n",
    "                 'Unkown':'Unknown',\n",
    "                 'Creep':'Other',\n",
    "                 'Rockfall':'Fall'}\n",
    "\n",
    "nasaglc['type'] = nasaglc.apply(lambda row:nasa_type_map[row['landslide_category']], axis = 1)\n",
    "\n"
   ]
  },
  {
   "cell_type": "code",
   "execution_count": null,
   "id": "d29f7704",
   "metadata": {},
   "outputs": [],
   "source": [
    "#assign material to uniform naming scheme\n",
    "\n",
    "nasa_material_map = {'landslide':'Unknown', \n",
    "                 'rock_fall':'Rock', \n",
    "                 'mudslide':'Earth', \n",
    "                 'unknown':'Unknown', \n",
    "                 'debris_flow':'Debris',\n",
    "                 'riverbank_collapse':'Unknown',\n",
    "                 'complex':'Unknown',\n",
    "                 'other':'Unknown',\n",
    "                 'earth_flow':'Flow',\n",
    "                 'rotational_slide':'Unknown',\n",
    "                 'Riverbank collapse':'Unknown',\n",
    "                 'Rock fall':'Rock',\n",
    "                 'Unknown':'Unknown',\n",
    "                 'Mudslide':'Earth',\n",
    "                 'snow_avalanche':'Other',\n",
    "                 'translational_slide':'Unknown',\n",
    "                 'creep':'Unknown',\n",
    "                 'Landslide':'Unknown',\n",
    "                 'Rotational slide':'Unknown',\n",
    "                 'lahar':'Other',\n",
    "                 None:'Unknown',\n",
    "                 'Other':'Unknown',\n",
    "                 'Complex':'Unknown',\n",
    "                 'topple':'Unknown',\n",
    "                 'Rock slide':'Rock',\n",
    "                 'Unkown':'Unknown',\n",
    "                 'Creep':'Unknown',\n",
    "                 'Rockfall':'Rock'}\n",
    "\n",
    "nasaglc['material'] = nasaglc.apply(lambda row:nasa_material_map[row['landslide_category']], axis = 1)"
   ]
  },
  {
   "cell_type": "code",
   "execution_count": null,
   "id": "dda9fe8d",
   "metadata": {},
   "outputs": [],
   "source": [
    "#assign spatial uncertainty to uniform naming scheme\n",
    "\n",
    "nasa_uncert_map = {'5km':'<5km',\n",
    "                   'unknown':'Unknown',\n",
    "                   '50km':'<50km',\n",
    "                   'exact':'Exact',\n",
    "                   '1km':'<1km',\n",
    "                   '25km':'<25km',\n",
    "                   '10km':'<10km',\n",
    "                   '100km':'<100km',\n",
    "                   '250km':'<250km',\n",
    "                   'Unknown':'Unknown',\n",
    "                   'Known exactly':'Exact',\n",
    "                   None:'Unknown'}\n",
    "\n",
    "nasaglc['spat_unc'] = nasaglc.apply(lambda row:nasa_uncert_map[row['location_accuracy']], axis = 1)"
   ]
  },
  {
   "cell_type": "code",
   "execution_count": null,
   "id": "09870c7b",
   "metadata": {},
   "outputs": [],
   "source": [
    "nasaglc_s =  simplify_inventory(inventorydf = nasaglc, \n",
    "                                inventoryname = \"NASA GLC\", \n",
    "                                  inventory_id = 'event_id', \n",
    "                                  trigger = 'trigger', \n",
    "                                  lstype = 'type',\n",
    "                                  material = 'material',\n",
    "                                  spat_unc = 'spat_unc', \n",
    "                                  src_url = 'https://maps.nccs.nasa.gov/arcgis/apps/MapAndAppGallery/index.html?appid=574f26408683485799d02e857e5d9521', \n",
    "                                  date_accessed = '20220725', \n",
    "                                  citation = \"\"\"Kirschbaum, D.B., Stanley, T., & Zhou, Y. (2015). \n",
    "                                                 Spatial and temporal analysis of a global landslide catalog. \n",
    "                                                 Geomorphology, 249, 4-15.\"\"\", \n",
    "                                  license = 'permissive, see source URL')"
   ]
  },
  {
   "cell_type": "markdown",
   "id": "c869e5fa",
   "metadata": {},
   "source": [
    "### Global Fatal Landslide Database Version 2"
   ]
  },
  {
   "cell_type": "markdown",
   "id": "9f96814b",
   "metadata": {},
   "source": [
    "We use the layer \"Landslidepoints_04to17\""
   ]
  },
  {
   "cell_type": "code",
   "execution_count": null,
   "id": "c42dbf3d",
   "metadata": {},
   "outputs": [],
   "source": [
    "gfld = gpd.read_file(\"\"\"../GFLD Version 2 Public-20220520T152800Z-001/GFLD Version 2 Public/Landslidepoints_04to17/Landslidepoints_04to17.shp\"\"\")\n",
    "\n",
    "gfld[\"DATE\"] = pd.to_datetime(gfld['Date'])\n",
    "\n",
    "#preserve original index\n",
    "gfld['src_index'] = gfld.index\n",
    "\n",
    "#reset index to  make sure we have unique and monotonic values\n",
    "gfld.reset_index(inplace = True, drop = True)\n",
    "\n",
    "#check if the crs is WGS84, and if not, reproject it\n",
    "\n",
    "if gfld.crs != 'EPSG:4326':\n",
    "    gfld.to_crs('EPSG:4326', inplace = True)\n",
    "    \n"
   ]
  },
  {
   "cell_type": "code",
   "execution_count": null,
   "id": "aa0c2c8d",
   "metadata": {},
   "outputs": [],
   "source": [
    "#assign triggers to uniform naming scheme\n",
    "\n",
    "gfld_trigger_map = {'rainfall':'Precipitation', \n",
    "                     'mining (unknown)':'Human Activity', \n",
    "                     'construction':'Human Activity', \n",
    "                     'unknown':'Unknown',\n",
    "                     'illegal hillcutting':'Human Activity',\n",
    "                     'illegal mining':'Human Activity',\n",
    "                     'earthquake':'Earthquake',\n",
    "                     'legal mining':'Human Activity',\n",
    "                     'leaking pipe':'Human Activity',\n",
    "                     'volcanic eruption':'Volcano',\n",
    "                     'fire':'Other',\n",
    "                     'recreation':'Human Activity',\n",
    "                     'progressive failure':'Other',\n",
    "                     'freeze-thaw':'Other',\n",
    "                     'freezing':'Other',\n",
    "                     'human activity (unspecified)':'Human Activity',\n",
    "                     'garbage collapse':'Human Activity',\n",
    "                     'natural dam or riverbank collapse':'Other',\n",
    "                     'animal activity':'Other',\n",
    "                     'conflict and explosion':'Human Activity',\n",
    "                     'marine erosion':'Other'}\n",
    "\n",
    "\n",
    "gfld['trigger'] = gfld.apply(lambda row:gfld_trigger_map[row['Trigger']], axis = 1)\n"
   ]
  },
  {
   "cell_type": "code",
   "execution_count": null,
   "id": "d6c62cf8",
   "metadata": {},
   "outputs": [],
   "source": [
    "#assign type to uniform naming scheme\n",
    "\n",
    "gfld['type'] = 'Unknown' #type is not documented in the GFLD"
   ]
  },
  {
   "cell_type": "code",
   "execution_count": null,
   "id": "e1e9426c",
   "metadata": {},
   "outputs": [],
   "source": [
    "#assign material to uniform naming scheme\n",
    "\n",
    "gfld['material'] = 'Unknown' #material is not documented in the GFLD"
   ]
  },
  {
   "cell_type": "code",
   "execution_count": null,
   "id": "862531ab",
   "metadata": {},
   "outputs": [],
   "source": [
    "#assign spatial uncertainty to uniform naming scheme\n",
    "\n",
    "\n",
    "def gfld_to_uncert(precision):\n",
    "    \n",
    "    rad_in_m = precision/1000 #precision records the radius from the landslide point to the outermost\n",
    "                            #corner of, for example, the county in mm\n",
    "    \n",
    "    if rad_in_m < 100:\n",
    "        spat_unc = 'Exact'\n",
    "        \n",
    "    elif rad_in_m < 1000:\n",
    "        spat_unc = '<1km'\n",
    "        \n",
    "    elif rad_in_m < 5000:\n",
    "        spat_unc = '<5km'\n",
    "        \n",
    "    elif rad_in_m < 10000:\n",
    "        spat_unc = '<10km'\n",
    "    \n",
    "    elif rad_in_m < 10000:\n",
    "        spat_unc = '<10km'\n",
    "\n",
    "    elif rad_in_m < 25000:\n",
    "        spat_unc = '<25km'\n",
    "        \n",
    "    elif rad_in_m < 50000:\n",
    "        spat_unc = '<50km'\n",
    "        \n",
    "    elif rad_in_m < 100000:\n",
    "        spat_unc = '<100km'\n",
    "    \n",
    "    elif rad_in_m < 250000:\n",
    "        spat_unc = '<250km'\n",
    "    \n",
    "    elif rad_in_m > 250000:\n",
    "        spat_unc = '>250km'\n",
    "    \n",
    "    else: \n",
    "        spat_unc = 'Unknown'\n",
    "        \n",
    "    return spat_unc\n",
    "\n"
   ]
  },
  {
   "cell_type": "code",
   "execution_count": null,
   "id": "0be1778e",
   "metadata": {},
   "outputs": [],
   "source": [
    "gfld['spat_unc'] = gfld.apply(lambda row:gfld_to_uncert(row['Precision']), axis = 1)"
   ]
  },
  {
   "cell_type": "code",
   "execution_count": null,
   "id": "255f9b5a",
   "metadata": {},
   "outputs": [],
   "source": [
    "gfld_s =  simplify_inventory(inventorydf = gfld, \n",
    "                                inventoryname = 'GFLD V2', \n",
    "                                  inventory_id = 'LandslideN', \n",
    "                                  trigger = 'trigger', \n",
    "                                  lstype = 'type',\n",
    "                                  material = 'material',                                \n",
    "                                  spat_unc = 'spat_unc', \n",
    "                                  src_url = 'https://drive.google.com/drive/folders/1kxUSXBl10OHPrGXIur6bM4PBoKX0C_LY', \n",
    "                                  date_accessed = '20220520', \n",
    "                                  citation = \"\"\"Froude, M. J., & Petley, D. N. (2018). \n",
    "                                                  Global fatal landslide occurrence from 2004 to 2016. \n",
    "                                                  Natural Hazards and Earth System Sciences, 18(8), 2161–2181. \n",
    "                                                  https://doi.org/10.5194/nhess-18-2161-2018\"\"\", \n",
    "                                  license = 'https://www.nationalarchives.gov.uk/doc/open-government-licence/version/2/')"
   ]
  },
  {
   "cell_type": "code",
   "execution_count": null,
   "id": "7abd2de1",
   "metadata": {},
   "outputs": [],
   "source": [
    "plot_lsinv(gfld_s.set_index('DATE'), \"Global Fatal Landslide Database\")"
   ]
  },
  {
   "cell_type": "markdown",
   "id": "a98696cd",
   "metadata": {},
   "source": [
    "# Other inventories by country"
   ]
  },
  {
   "cell_type": "markdown",
   "id": "548c2f26",
   "metadata": {},
   "source": [
    "### Australia"
   ]
  },
  {
   "cell_type": "markdown",
   "id": "df7e0383",
   "metadata": {},
   "source": [
    "#### Geoscience Australia Landslide Search"
   ]
  },
  {
   "cell_type": "code",
   "execution_count": null,
   "id": "e838428b",
   "metadata": {},
   "outputs": [],
   "source": [
    "Landslip_details = pd.read_excel('../Landslip_Export_20180706_1224.xls', \n",
    "                                sheet_name = 'Landslip_details', \n",
    "                                header = 1)"
   ]
  },
  {
   "cell_type": "code",
   "execution_count": null,
   "id": "836e71ad",
   "metadata": {},
   "outputs": [],
   "source": [
    "Landslide_details = pd.read_excel('../Landslip_Export_20180706_1224.xls', \n",
    "                                sheet_name = 'Landslide_details', \n",
    "                                header = 1)"
   ]
  },
  {
   "cell_type": "code",
   "execution_count": null,
   "id": "38e7bc9b",
   "metadata": {},
   "outputs": [],
   "source": [
    "australia = pd.merge(Landslip_details, \n",
    "                    Landslide_details,\n",
    "                    how = 'left', \n",
    "                    on = 'Landslip\\nID')"
   ]
  },
  {
   "cell_type": "code",
   "execution_count": null,
   "id": "82e1c675",
   "metadata": {},
   "outputs": [],
   "source": [
    "def aus_todatetime(row):\n",
    "      \n",
    "    if (row['Event\\nDate'].count('-')==2): #dates with two dashes contain a daily time stamp\n",
    "\n",
    "        try:\n",
    "            d = pd.to_datetime(row['Event\\nDate'], dayfirst = True)\n",
    "        except:\n",
    "            d = np.nan\n",
    "\n",
    "    else: \n",
    "        d = np.nan\n",
    "\n",
    "        \n",
    "    return d"
   ]
  },
  {
   "cell_type": "code",
   "execution_count": null,
   "id": "b4cc732d",
   "metadata": {},
   "outputs": [],
   "source": [
    "#convert landslide time to datetime \n",
    "australia['DATE'] = australia.apply(lambda row:aus_todatetime(row), axis = 1)\n",
    "\n",
    "#preserve original index\n",
    "australia['src_index'] = australia.index.values\n",
    "\n",
    "#reset index to  make sure we have unique and monotonic values\n",
    "australia.reset_index(inplace = True, drop = True)\n",
    "\n",
    "#only take the landslides (we don't want erosion)\n",
    "\n",
    "australia = australia[australia['Hazard\\nType']=='Landslide'].copy()\n"
   ]
  },
  {
   "cell_type": "code",
   "execution_count": null,
   "id": "8a290e8b",
   "metadata": {},
   "outputs": [],
   "source": [
    "#create a geodataframe\n",
    "\n",
    "australia = gpd.GeoDataFrame(data = australia, \n",
    "                             geometry = gpd.points_from_xy(australia.Longitude, \n",
    "                                                          australia.Latitude), \n",
    "                            crs = 'EPSG:4326')"
   ]
  },
  {
   "cell_type": "code",
   "execution_count": null,
   "id": "7554fd9b",
   "metadata": {},
   "outputs": [],
   "source": [
    "#assign triggers to uniform naming scheme\n",
    "\n",
    "australia_trigger_map = {np.nan:'Unknown', \n",
    "                          'Intense, short period rainfall':'Precipitation',\n",
    "                          'Prolonged high precipitation, Intense, short period rainfall':'Precipitation',\n",
    "                          'Prolonged high precipitation':'Precipitation', \n",
    "                         'Flash flooding':'Other',\n",
    "                          'Intense, short period rainfall, Intense, short period rainfall':'Precipitation',\n",
    "                          'Wave erosion':'Other', \n",
    "                          'Earthquake':'Earthquake', \n",
    "                          'Fluvial erosion':'Other',\n",
    "                          'Severe storm, Intense, short period rainfall':'Precipitation',\n",
    "                          'Flash flooding, Prolonged high precipitation':'Precipitation', \n",
    "                          'Natural unknown':'Unknown',\n",
    "                          'Flash flooding, Fluvial erosion, Prolonged high precipitation':'Precipitation',\n",
    "                          'Flash flooding, Severe storm, Intense, short period rainfall':'Precipitation',\n",
    "                          'Intense, short period rainfall, Severe storm':'Precipitation',\n",
    "                          'Severe storm, Prolonged high precipitation':'Precipitation',\n",
    "                          'Prolonged high precipitation, Severe storm':'Precipitation',\n",
    "                          'Flash flooding, Fluvial erosion':'Other',\n",
    "                           'Intense, short period rainfall, Prolonged high precipitation':'Precipitation',\n",
    "                           'Subsurface erosion/weathering':'Other',\n",
    "                           'Intense, short period rainfall, Flash flooding, Severe storm':'Precipitation',\n",
    "                           'Severe storm':'Precipitation', \n",
    "                          'Intense, short period rainfall, Flash flooding':'Precipitation',\n",
    "                           'Wave erosion, Subsurface erosion/weathering':'Other',\n",
    "                           'Wave erosion, Prolonged high precipitation':'Precipitation'}\n",
    "\n",
    "\n",
    "\n",
    "def australia_trigger(row):\n",
    "    \n",
    "    if type(row['Human Triggering\\nFactor']) is str:\n",
    "        trigger = 'Human Activity'\n",
    "        \n",
    "    else:\n",
    "        trigger = australia_trigger_map[row['Natural Triggering\\nFactor']]\n",
    "        \n",
    "    return trigger\n",
    "\n",
    "\n",
    "\n",
    "australia['trigger'] = australia.apply(lambda row:australia_trigger(row), axis = 1)"
   ]
  },
  {
   "cell_type": "code",
   "execution_count": null,
   "id": "b8baf74f",
   "metadata": {},
   "outputs": [],
   "source": [
    "australia_type_map = {np.nan:'Unknown', \n",
    "                      'Slide':'Slide', \n",
    "                      'Flow':'Flow', \n",
    "                      'Fall':'Fall', \n",
    "                      'Topple':'Topple', \n",
    "                      'Slump':'Other', \n",
    "                      'Unknown':'Unknown'}\n",
    "\n",
    "#assign type to uniform naming scheme\n",
    "\n",
    "australia['type'] = australia.apply(lambda row:australia_type_map[row['Movement\\nType']], axis =1) "
   ]
  },
  {
   "cell_type": "code",
   "execution_count": null,
   "id": "ff524424",
   "metadata": {},
   "outputs": [],
   "source": [
    "#assign material to uniform naming scheme\n",
    "\n",
    "australia_material_map = {np.nan:'Unknown', \n",
    "                          'Rock':'Rock',\n",
    "                          'Debris':'Debris',\n",
    "                          'Earth':'Earth'}\n",
    "\n",
    "australia['material'] = australia.apply(lambda row:australia_material_map[row['Material\\nType']], axis =1) "
   ]
  },
  {
   "cell_type": "code",
   "execution_count": null,
   "id": "06d47f49",
   "metadata": {},
   "outputs": [],
   "source": [
    "#assign spatial uncertainty to uniform naming scheme\n",
    "\n",
    "australia_uncertainty_map = {np.nan:'Unknown', \n",
    "                             'Place name search':'<50km',\n",
    "                             'Other':'Unknown',\n",
    "                             'Location edited by gis methods':'Exact',\n",
    "                             'Reported location':'<1km',\n",
    "                             'Map located':'<1km',\n",
    "                             'Gps measurement':'Exact',\n",
    "                             'Satellite imagery':'<1km'}\n",
    "\n",
    "australia['spat_unc'] = australia.apply(lambda row:australia_uncertainty_map[row['Capture\\nMethod_y']], axis =1) "
   ]
  },
  {
   "cell_type": "code",
   "execution_count": null,
   "id": "85b305da",
   "metadata": {},
   "outputs": [],
   "source": [
    "australia_s =  simplify_inventory(inventorydf = australia, \n",
    "                                inventoryname = 'Geoscience Australia Landslide Search', \n",
    "                                  inventory_id = 'Landslip\\nID', \n",
    "                                  trigger = 'trigger', \n",
    "                                  lstype = 'type',\n",
    "                                  material = 'material',                                \n",
    "                                  spat_unc = 'spat_unc', \n",
    "                                  src_url = 'https://researchdata.edu.au/landslide-search/1261711', \n",
    "                                  date_accessed = '20220803', \n",
    "                                  citation = \"\"\"Geoscience Australia (2012): Landslide Search. software. http://pid.geoscience.gov.au/dataset/ga/74273\"\"\", \n",
    "                                  license = 'Creative Commons Attribution 4.0 International Licence http://creativecommons.org/licenses/by/4.0')"
   ]
  },
  {
   "cell_type": "code",
   "execution_count": null,
   "id": "5469de33",
   "metadata": {},
   "outputs": [],
   "source": [
    "plot_lsinv(australia_s.set_index('DATE'), 'Geoscience Australia Landslide Search')"
   ]
  },
  {
   "cell_type": "code",
   "execution_count": null,
   "id": "8bc06463",
   "metadata": {},
   "outputs": [],
   "source": [
    "del (Landslide_details, \n",
    "     Landslip_details, \n",
    "     aus_todatetime, \n",
    "     australia_material_map, \n",
    "     australia_trigger, \n",
    "     australia_trigger_map, \n",
    "     australia_type_map, \n",
    "     australia_uncertainty_map)"
   ]
  },
  {
   "cell_type": "markdown",
   "id": "44f2c32c",
   "metadata": {},
   "source": [
    "### Landslide & Torrential Colombia Database"
   ]
  },
  {
   "cell_type": "code",
   "execution_count": null,
   "id": "d47e4b1b",
   "metadata": {},
   "outputs": [],
   "source": [
    "colombia = pd.read_excel('../df_AVT_08_13_22.xlsx')"
   ]
  },
  {
   "cell_type": "code",
   "execution_count": null,
   "id": "013b8b2e",
   "metadata": {},
   "outputs": [],
   "source": [
    "#convert landslide time to datetime \n",
    "colombia['DATE'] = pd.to_datetime(colombia['date'])\n",
    "\n",
    "#preserve original index\n",
    "colombia['src_index'] = colombia.index.values\n",
    "\n",
    "#reset index to  make sure we have unique and monotonic values\n",
    "colombia.reset_index(inplace = True, drop = True)"
   ]
  },
  {
   "cell_type": "code",
   "execution_count": null,
   "id": "0e6fa2f5",
   "metadata": {},
   "outputs": [],
   "source": [
    "#parse location into longitude and latitude\n",
    "\n",
    "def col_to_lat(row):\n",
    "    \n",
    "    lat = float(row['location'][1:-1].split(',')[1].strip())\n",
    "\n",
    "    return lat \n",
    "\n",
    "def col_to_long(row):\n",
    "    \n",
    "    long = float(row['location'][1:-1].split(',')[0].strip())\n",
    "    \n",
    "    return long \n"
   ]
  },
  {
   "cell_type": "code",
   "execution_count": null,
   "id": "7ad0f9e6",
   "metadata": {},
   "outputs": [],
   "source": [
    "colombia['longitude'] = colombia.apply(lambda row:col_to_long(row), axis = 1)\n",
    "colombia['latitude'] = colombia.apply(lambda row:col_to_lat(row), axis = 1)\n",
    "\n"
   ]
  },
  {
   "cell_type": "code",
   "execution_count": null,
   "id": "faa61138",
   "metadata": {},
   "outputs": [],
   "source": [
    "#create a geodataframe\n",
    "\n",
    "colombia = gpd.GeoDataFrame(data = colombia, \n",
    "                              geometry = gpd.points_from_xy(colombia.longitude, \n",
    "                                                          colombia.latitude), \n",
    "                                crs = 'EPSG:4326')"
   ]
  },
  {
   "cell_type": "code",
   "execution_count": null,
   "id": "f06d8310",
   "metadata": {},
   "outputs": [],
   "source": [
    "#assign triggers to uniform naming scheme\n",
    "\n",
    "colombia_trigger_map = {'Anthropic':'Human Activity', \n",
    "                        'Rainfall':'Precipitation',\n",
    "                        'Unknown':'Unknown',\n",
    "                        'Earthquake':'Earthquake',\n",
    "                        'Erosion':'Other',\n",
    "                        'Construcción':'Human Activity',\n",
    "                        'Temporada seca':'Other',\n",
    "                        'Lluvias y obstrucción de la quebrada Cañada Negra por basura':'Precipitation',\n",
    "                        'Unkown':'Unknown',\n",
    "                        'Negligencia':'Human Activity',\n",
    "                        'Actividad Tectónica':'Earthquake',\n",
    "                        'Condiciones Atmosfericas':'Other',\n",
    "                        'Desconocido':'Unknown'}\n",
    "\n",
    "\n",
    "\n",
    "colombia['trigger'] = colombia.apply(lambda row:colombia_trigger_map[row['triggering']], axis = 1)"
   ]
  },
  {
   "cell_type": "code",
   "execution_count": null,
   "id": "ebf5f03e",
   "metadata": {},
   "outputs": [],
   "source": [
    "colombia['type_orig'] = colombia['type']\n",
    "\n",
    "\n",
    "#assign type to uniform naming scheme\n",
    "colombia_type_map = {'Landslide':'Slide', \n",
    "                     'Flood':'Unknown', \n",
    "                     'Torrential':'Unknown', \n",
    "                     'Rockfall':'Fall', \n",
    "                     'Earthquake':'Unknown',\n",
    "                     'Debris flow':'Flow',\n",
    "                     'Unknown':'Unknown',\n",
    "                     'Forest fire':'Unknown',\n",
    "                     'Volcanic eruption':'Other',\n",
    "                     'Fall':'Fall',\n",
    "                     'Debris':'Flow',\n",
    "                     'Fire':'Unknown'}\n",
    "\n",
    "\n",
    "colombia['type'] = colombia.apply(lambda row:colombia_type_map[row['type_orig']], axis = 1)"
   ]
  },
  {
   "cell_type": "code",
   "execution_count": null,
   "id": "2a09918e",
   "metadata": {},
   "outputs": [],
   "source": [
    "#assign material to uniform naming scheme\n",
    "\n",
    "\n",
    "#assign material to uniform naming scheme\n",
    "colombia_material_map = {'Landslide':'Earth', \n",
    "                         'Flood':'Unknown', \n",
    "                         'Torrential':'Unknown', \n",
    "                         'Rockfall':'Rock', \n",
    "                         'Earthquake':'Unknown',\n",
    "                         'Debris flow':'Debris',\n",
    "                         'Unknown':'Unknown',\n",
    "                         'Forest fire':'Unknown',\n",
    "                         'Volcanic eruption':'Other',\n",
    "                         'Fall':'Unknown',\n",
    "                         'Debris':'Debris',\n",
    "                         'Fire':'Unknown'}\n",
    "\n",
    "\n",
    "colombia['material'] = colombia.apply(lambda row:colombia_material_map[row['type_orig']], axis = 1)"
   ]
  },
  {
   "cell_type": "markdown",
   "id": "8683f970",
   "metadata": {},
   "source": [
    "The values are: low<100m, med 100m-10km, and high is >10km.  Daissy Herrerra Posada, pers. communication."
   ]
  },
  {
   "cell_type": "code",
   "execution_count": null,
   "id": "b71bd1b3",
   "metadata": {},
   "outputs": [],
   "source": [
    "#assign spatial uncertainty\n",
    "\n",
    "colombia_spatial_map = {'Mid':'<10km', \n",
    "                        'High':'Unknown', \n",
    "                        'Low':'Exact', \n",
    "                        'mid':'<10km', \n",
    "                        'low':'Exact',\n",
    "                        'high':'Unknown'}\n",
    "\n",
    "\n",
    "colombia['spat_unc'] = colombia.apply(lambda row:colombia_spatial_map[row['uncertainty']], axis = 1)"
   ]
  },
  {
   "cell_type": "code",
   "execution_count": null,
   "id": "af8a7b72",
   "metadata": {},
   "outputs": [],
   "source": [
    "colombia_s =  simplify_inventory(inventorydf = colombia, \n",
    "                                inventoryname = 'Landslide & Torrential Colombia Geodatabase', \n",
    "                                  inventory_id = '_id', \n",
    "                                  trigger = 'trigger', \n",
    "                                  lstype = 'type',\n",
    "                                  material = 'material',                                \n",
    "                                  spat_unc = 'spat_unc', \n",
    "                                  src_url = 'https://landslides-colombia.herokuapp.com/#/find', \n",
    "                                  date_accessed = '20220814', \n",
    "                                  citation = \"\"\"Geohazards Semillero de Investigacion, Universidad Nacional de Colombia.\n",
    "                                                2022. Landslide & Torrential Colombia Geodatabase.\"\"\", \n",
    "                                  license = 'Unknown')\n"
   ]
  },
  {
   "cell_type": "code",
   "execution_count": null,
   "id": "26e5db3e",
   "metadata": {},
   "outputs": [],
   "source": [
    "fig, ax = plot_lsinv(colombia_s.set_index('DATE'), \"colombia\")"
   ]
  },
  {
   "cell_type": "markdown",
   "id": "5f461e11",
   "metadata": {},
   "source": [
    "### Italy"
   ]
  },
  {
   "cell_type": "markdown",
   "id": "7e52e5d1",
   "metadata": {},
   "source": [
    "#### FraneItalia V3"
   ]
  },
  {
   "cell_type": "code",
   "execution_count": null,
   "id": "bbd99eed",
   "metadata": {},
   "outputs": [],
   "source": [
    "franeitalia = pd.read_excel('../FraneItalia_2010-2020.xlsx', \n",
    "                            sheet_name = 'ALL', \n",
    "                           header = 2)"
   ]
  },
  {
   "cell_type": "code",
   "execution_count": null,
   "id": "44997e2b",
   "metadata": {},
   "outputs": [],
   "source": [
    "#convert landslide time to datetime \n",
    "franeitalia['DATE'] = pd.to_datetime(franeitalia['Initial day'])\n",
    "\n",
    "#remove the date from those which are estimated - we only want certain days\n",
    "\n",
    "franeitalia.loc[franeitalia['Td'] == 'estimation', 'DATE'] = None\n",
    "\n",
    "\n",
    "#preserve original index\n",
    "franeitalia['src_index'] = franeitalia.index\n",
    "\n",
    "#reset index to  make sure we have unique and monotonic values\n",
    "franeitalia.reset_index(inplace = True, drop = True)\n",
    "\n",
    "#create a geodataframe\n",
    "\n",
    "franeitalia = gpd.GeoDataFrame(data = franeitalia, \n",
    "                              geometry = gpd.points_from_xy(franeitalia.LONG, \n",
    "                                                          franeitalia.LAT), \n",
    "                                crs = 'EPSG:4326')\n",
    "\n"
   ]
  },
  {
   "cell_type": "code",
   "execution_count": null,
   "id": "91f2b0d1",
   "metadata": {},
   "outputs": [],
   "source": [
    "#assign triggers to uniform naming scheme\n",
    "\n",
    "franeitalia_trigger_map = {'rainfall':'Precipitation', \n",
    "                           'rainfall + other':'Precipitation',\n",
    "                           'n.a.':'Unknown',\n",
    "                           'earthquake':'Earthquake',\n",
    "                           'snowmelt':'Other',\n",
    "                           'other':'Other',\n",
    "                           'human activity':'Human Activity'}\n",
    "\n",
    "franeitalia['trigger'] = franeitalia.apply(lambda row:franeitalia_trigger_map[row['Trigger']], axis = 1)"
   ]
  },
  {
   "cell_type": "code",
   "execution_count": null,
   "id": "fe8ae023",
   "metadata": {},
   "outputs": [],
   "source": [
    "#assign type to uniform naming scheme\n",
    "franeitalia_type_map = {np.nan:'Unknown',\n",
    "                        'fall':'Fall',\n",
    "                        'flow':'Flow',\n",
    "                        'slide':'Slide',\n",
    "                        'more than one':'Complex',\n",
    "                        ' ':'Unknown',\n",
    "                        ' flow':'Flow'}\n",
    "\n",
    "\n",
    "franeitalia['type'] = franeitalia.apply(lambda row:franeitalia_type_map[row['Typology']], axis = 1)"
   ]
  },
  {
   "cell_type": "code",
   "execution_count": null,
   "id": "7a58fe07",
   "metadata": {},
   "outputs": [],
   "source": [
    "#assign material to uniform naming scheme\n",
    "\n",
    "\n",
    "#assign material to uniform naming scheme\n",
    "franeitalia_material_map = {'more than one':'Other', \n",
    "                            'rock':'Rock',\n",
    "                            'soil':'Earth',\n",
    "                            np.nan:'Unknown',\n",
    "                            'debris':'Debris',\n",
    "                            ' ':'Unknown'}\n",
    "\n",
    "\n",
    "franeitalia['material'] = franeitalia.apply(lambda row:franeitalia_material_map[row['Material']], axis = 1)"
   ]
  },
  {
   "cell_type": "code",
   "execution_count": null,
   "id": "be6e5c44",
   "metadata": {},
   "outputs": [],
   "source": [
    "#assign spatial uncertainty\n",
    "\n",
    "#C = Certain -> Exact\n",
    "#A = Approximated -> approximating as <10 km\n",
    "#M = Municipality -> approximating as <50 km\n",
    "#AE = Geographical Region -> approximating as <250km\n",
    "\n",
    "franeitalia_spatial_map = {'M':'<50km', \n",
    "                           'AE':'<250km',\n",
    "                           'A':'<10km',\n",
    "                           'C':'Exact',\n",
    "                           'c':'Exact'}\n",
    "\n",
    "\n",
    "franeitalia['spat_unc'] = franeitalia.apply(lambda row:franeitalia_spatial_map[row['Sd']], axis = 1)"
   ]
  },
  {
   "cell_type": "code",
   "execution_count": null,
   "id": "ddd507bf",
   "metadata": {},
   "outputs": [],
   "source": [
    "franeitalia_s =  simplify_inventory(inventorydf = franeitalia, \n",
    "                                inventoryname = 'FraneItalia version 3', \n",
    "                                  inventory_id = 'ID', \n",
    "                                  trigger = 'trigger', \n",
    "                                  lstype = 'type',\n",
    "                                  material = 'material',                                \n",
    "                                  spat_unc = 'spat_unc', \n",
    "                                  src_url = 'https://franeitalia.wordpress.com/database/', \n",
    "                                  date_accessed = '20220101', \n",
    "                                  citation = \"\"\"Calvello, M., Pecoraro, G. FraneItalia: a catalog of recent Italian landslides.\n",
    "                                  Geoenviron Disasters 5, 13 (2018). https://doi.org/10.1186/s40677-018-0105-5\"\"\", \n",
    "                                  license = 'Creative Commons Attribution 4.0 International https://creativecommons.org/licenses/by/4.0/')"
   ]
  },
  {
   "cell_type": "code",
   "execution_count": null,
   "id": "f0b080c3",
   "metadata": {},
   "outputs": [],
   "source": [
    "plot_lsinv(franeitalia_s.set_index('DATE'), \"FraneItalia\")"
   ]
  },
  {
   "cell_type": "code",
   "execution_count": null,
   "id": "6c4e35fe",
   "metadata": {},
   "outputs": [],
   "source": [
    "del franeitalia_material_map, franeitalia_spatial_map, franeitalia_trigger_map, franeitalia_type_map"
   ]
  },
  {
   "cell_type": "markdown",
   "id": "208fbe64",
   "metadata": {},
   "source": [
    "### New Zealand"
   ]
  },
  {
   "cell_type": "markdown",
   "id": "a5ca617f",
   "metadata": {},
   "source": [
    "**GNS New Zealand Landslide Database**"
   ]
  },
  {
   "cell_type": "code",
   "execution_count": null,
   "id": "f63d4b7f",
   "metadata": {},
   "outputs": [],
   "source": [
    "nz_small = pd.read_csv('/home/luna/Documents/04_Data/20220807_NewZealand/nz_small.csv')\n",
    "nz_moderate = pd.read_csv('/home/luna/Documents/04_Data/20220807_NewZealand/nz_moderate.csv')\n",
    "nz_large = pd.read_csv('/home/luna/Documents/04_Data/20220807_NewZealand/nz_moderate.csv')\n"
   ]
  },
  {
   "cell_type": "code",
   "execution_count": null,
   "id": "c9dd4753",
   "metadata": {},
   "outputs": [],
   "source": [
    "newzealand = pd.concat([nz_small, nz_moderate, nz_large])"
   ]
  },
  {
   "cell_type": "code",
   "execution_count": null,
   "id": "c0b23e96",
   "metadata": {},
   "outputs": [],
   "source": [
    "#convert landslide time to datetime \n",
    "newzealand['DATE'] = pd.to_datetime(newzealand['Date of Occurrence'], dayfirst = True)\n",
    "\n",
    "\n",
    "#preserve original index\n",
    "newzealand['src_index'] = newzealand.index\n",
    "\n",
    "#reset index to  make sure we have unique and monotonic values\n",
    "newzealand.reset_index(inplace = True, drop = True)\n",
    "\n",
    "#create a geodataframe\n",
    "\n",
    "newzealand = gpd.GeoDataFrame(data = newzealand, \n",
    "                              geometry = gpd.points_from_xy(newzealand['X Co-ordinate'], \n",
    "                                                          newzealand['Y Co-ordinate']), \n",
    "                                crs = 'EPSG:4326')"
   ]
  },
  {
   "cell_type": "code",
   "execution_count": null,
   "id": "6901a36a",
   "metadata": {},
   "outputs": [],
   "source": [
    "#assign triggers to uniform naming scheme\n",
    "\n",
    "newzealand_trigger_map = {'unknown':'Unknown', \n",
    "                          'Earthquake':'Earthquake',\n",
    "                          'Rainfall':'Precipitation',\n",
    "                          'other':'Other'}\n",
    "\n",
    "newzealand['trigger'] = newzealand.apply(lambda row:newzealand_trigger_map[row['Trigger']], axis = 1)"
   ]
  },
  {
   "cell_type": "code",
   "execution_count": null,
   "id": "34a5ae29",
   "metadata": {},
   "outputs": [],
   "source": [
    "#assign type to uniform naming scheme\n",
    "newzealand_type_map = {'Fall':'Fall', \n",
    "                       'Rotational slide (slump)':'Slide',\n",
    "                       'Translational slide':'Slide',\n",
    "                       'not collected':'Unknown',\n",
    "                       'Topple':'Topple',\n",
    "                       'unknown':'Unknown',\n",
    "                       'Flow':'Flow',\n",
    "                       'Subsidence':'Other',\n",
    "                       'Creep':'Other',\n",
    "                       'other':'Other',\n",
    "                       'Lateral spread':'Spread',\n",
    "                       'Avalanche':'Other',\n",
    "                       'Rockfall':'Fall',\n",
    "                       'Rock and Debris slide':'Slide',\n",
    "                       'Debris avalanche':'Flow',\n",
    "                       'Soil and Debris slide':'Slide',\n",
    "                       'Complex':'Complex'}\n",
    "\n",
    "\n",
    "newzealand['type'] = newzealand.apply(lambda row:newzealand_type_map[row['Movement Type']], axis = 1)"
   ]
  },
  {
   "cell_type": "code",
   "execution_count": null,
   "id": "ac893af0",
   "metadata": {},
   "outputs": [],
   "source": [
    "#assign material to uniform naming scheme\n",
    "newzealand_material_map = {'Rock':'Rock', \n",
    "                           'Soil':'Earth', \n",
    "                           'unknown':'Unknown', \n",
    "                           'not collected':'Unknown', \n",
    "                           'other':'Other', \n",
    "                           'Mixture':'Other'}\n",
    "\n",
    "\n",
    "newzealand['material'] = newzealand.apply(lambda row:newzealand_material_map[row['Material Type']], axis = 1)\n"
   ]
  },
  {
   "cell_type": "code",
   "execution_count": null,
   "id": "84fc8e04",
   "metadata": {},
   "outputs": [],
   "source": [
    "newzealand['spat_unc'] = 'Exact' #data source given is landslide GIS, so these should be the actual points of \n",
    "#occurrence"
   ]
  },
  {
   "cell_type": "code",
   "execution_count": null,
   "id": "f40648df",
   "metadata": {},
   "outputs": [],
   "source": [
    "newzealand_s =  simplify_inventory(inventorydf = newzealand, \n",
    "                                inventoryname = 'GNS New Zealand Landslide Database', \n",
    "                                  inventory_id = 'Landslide ID', \n",
    "                                  trigger = 'trigger', \n",
    "                                  lstype = 'type',\n",
    "                                  material = 'material',                                \n",
    "                                  spat_unc = 'spat_unc', \n",
    "                                  src_url = 'https://data.gns.cri.nz/landslides/index.html', \n",
    "                                  date_accessed = '20220101', \n",
    "                                  citation = \"\"\"Rosser, B., Dellow, S., Haubrock, S., & Glassey, P. (2017). \n",
    "                                  New Zealand’s National Landslide Database. Landslides, \n",
    "                                  14(6), 1949–1959. https://doi.org/10.1007/s10346-017-0843-6\"\"\", \n",
    "                                  license = 'Creative Commons Attribution 4.0 International https://creativecommons.org/licenses/by/4.0/')"
   ]
  },
  {
   "cell_type": "code",
   "execution_count": null,
   "id": "e5d49390",
   "metadata": {},
   "outputs": [],
   "source": [
    "plot_lsinv(newzealand_s.set_index('DATE'), 'GNS New Zealand Landslide Database')"
   ]
  },
  {
   "cell_type": "markdown",
   "id": "2ba4c5e6",
   "metadata": {},
   "source": [
    "### Rwanda"
   ]
  },
  {
   "cell_type": "markdown",
   "id": "841759e7",
   "metadata": {},
   "source": [
    "**Landslide Inventory Rwanda**"
   ]
  },
  {
   "cell_type": "code",
   "execution_count": null,
   "id": "87301af2",
   "metadata": {},
   "outputs": [],
   "source": [
    "rwanda = pd.read_excel('../Landslide inventory Rwanda up to 19May 2021.xlsx')"
   ]
  },
  {
   "cell_type": "code",
   "execution_count": null,
   "id": "f919e222",
   "metadata": {},
   "outputs": [],
   "source": [
    "#remove time info for one date range\n",
    "rwanda.loc[rwanda['event_date'] == '3-5/5/2013', 'event_date'] = None"
   ]
  },
  {
   "cell_type": "code",
   "execution_count": null,
   "id": "1aeaf89b",
   "metadata": {},
   "outputs": [],
   "source": [
    "#convert landslide time to datetime \n",
    "rwanda['DATE'] = pd.to_datetime(rwanda['event_date'])\n",
    "\n",
    "#preserve original index\n",
    "rwanda['src_index'] = rwanda.index\n",
    "\n",
    "#reset index to  make sure we have unique and monotonic values\n",
    "rwanda.reset_index(inplace = True, drop = True)\n",
    "\n",
    "#create a geodataframe\n",
    "\n",
    "rwanda = gpd.GeoDataFrame(data = rwanda, \n",
    "                              geometry = gpd.points_from_xy(rwanda.longitude, \n",
    "                                                          rwanda.latitude), \n",
    "                                crs = 'EPSG:4326')"
   ]
  },
  {
   "cell_type": "code",
   "execution_count": null,
   "id": "a68af369",
   "metadata": {},
   "outputs": [],
   "source": [
    "#assign triggers to uniform naming scheme\n",
    "\n",
    "rwanda_trigger_map = {'Rain':'Precipitation', \n",
    "                      'Unknown':'Unknown', \n",
    "                      'downpour':'Precipitation', \n",
    "                      'Mine':'Human Activity', \n",
    "                      'Flooding':'Other', \n",
    "                      'mining':'Human Activity', \n",
    "                      np.nan:'Unknown',\n",
    "                      'rain':'Precipitation',\n",
    "                      'continuous_rain':'Precipitation',\n",
    "                      'Rain and groundwater':'Precipitation'}\n",
    "\n",
    "\n",
    "rwanda['trigger'] = rwanda.apply(lambda row:rwanda_trigger_map[row['landslide_trigger']], axis = 1)"
   ]
  },
  {
   "cell_type": "code",
   "execution_count": null,
   "id": "0568ee06",
   "metadata": {},
   "outputs": [],
   "source": [
    "#assign type to uniform naming scheme\n",
    "\n",
    "rwanda_type_map = {'Debris flow':'Flow', \n",
    "                   'Landslide':'Slide',\n",
    "                   'Mudslide':'Slide',\n",
    "                   'landslide':'Slide',\n",
    "                   'mudslide':'Slide',\n",
    "                   'Rockslide':'Slide',\n",
    "                   'Other':'Other',\n",
    "                   'Mudslides ':'Slide',\n",
    "                   'Mudslide ':'Slide',\n",
    "                   np.nan:'Unknown',\n",
    "                   'Debris flow/Rock fall':'Complex',\n",
    "                   'debris_flow':'Flow',\n",
    "                   'Mud/earth flow':'Flow',\n",
    "                   'Mud flow':'Flow'}\n",
    "\n",
    "rwanda['type'] = rwanda.apply(lambda row:rwanda_type_map[row['landslide_category']], axis = 1)"
   ]
  },
  {
   "cell_type": "code",
   "execution_count": null,
   "id": "1cdd7354",
   "metadata": {},
   "outputs": [],
   "source": [
    "#assign material to uniform naming scheme\n",
    "\n",
    "rwanda_material_map = {'Debris flow':'Debris', \n",
    "                   'Landslide':'Earth',\n",
    "                   'Mudslide':'Earth',\n",
    "                   'landslide':'Earth',\n",
    "                   'mudslide':'Earth',\n",
    "                   'Rockslide':'Rock',\n",
    "                   'Other':'Other',\n",
    "                   'Mudslides ':'Earth',\n",
    "                   'Mudslide ':'Earth',\n",
    "                   np.nan:'Unknown',\n",
    "                   'Debris flow/Rock fall':'Other',\n",
    "                   'debris_flow':'Debris',\n",
    "                   'Mud/earth flow':'Earth',\n",
    "                   'Mud flow':'Earth'}\n",
    "\n",
    "rwanda['material'] = rwanda.apply(lambda row:rwanda_material_map[row['landslide_category']], axis = 1)"
   ]
  },
  {
   "cell_type": "code",
   "execution_count": null,
   "id": "bbde32bd",
   "metadata": {},
   "outputs": [],
   "source": [
    "#assign spatial uncertainty to uniform naming scheme\n",
    "\n",
    "rwanda_uncert_map = {'5km':'<5km',\n",
    "                     '5Km':'<5km',\n",
    "                   'unknown':'Unknown',\n",
    "                   '50km':'<50km',\n",
    "                   'exact':'Exact',\n",
    "                   '1km':'<1km',\n",
    "                     '15km':'<25km',\n",
    "                   '25km':'<25km',\n",
    "                   '10km':'<10km',\n",
    "                   '100km':'<100km',\n",
    "                   '250km':'<250km',\n",
    "                   'Unknown':'Unknown',\n",
    "                   'Known exactly':'Exact',\n",
    "                   np.nan:'Unknown'}\n",
    "\n",
    "rwanda['spat_unc'] = rwanda.apply(lambda row:rwanda_uncert_map[row['location_accuracy']], axis = 1)"
   ]
  },
  {
   "cell_type": "code",
   "execution_count": null,
   "id": "a475e1e6",
   "metadata": {},
   "outputs": [],
   "source": [
    "rwanda_s =  simplify_inventory(inventorydf = rwanda, \n",
    "                                inventoryname = \"Landslide Inventory Rwanda\", \n",
    "                                  inventory_id = 'event_id', \n",
    "                                  trigger = 'trigger', \n",
    "                                  lstype = 'type',\n",
    "                                  material = 'material',\n",
    "                                  spat_unc = 'spat_unc', \n",
    "                                  src_url = 'https://doi.org/10.4121/15040446.v1', \n",
    "                                  date_accessed = '20220805', \n",
    "                                  citation = \"\"\"Uwihirwe, Judith (2021): Data underlying the research of Integration of observed and model derived groundwater levels in landslide threshold models in Rwanda. \n",
    "                                              4TU.ResearchData. Dataset. https://doi.org/10.4121/15040446.v1\"\"\", \n",
    "                                  license = 'CC0 1.0 Universal (CC0 1.0) https://creativecommons.org/publicdomain/zero/1.0/')"
   ]
  },
  {
   "cell_type": "code",
   "execution_count": null,
   "id": "5eddba61",
   "metadata": {},
   "outputs": [],
   "source": [
    "plot_lsinv(rwanda_s.set_index('DATE'), \"Landslide Inventory Rwanda\")"
   ]
  },
  {
   "cell_type": "code",
   "execution_count": null,
   "id": "87c596f3",
   "metadata": {},
   "outputs": [],
   "source": [
    "del rwanda_material_map, rwanda_uncert_map, rwanda_trigger_map, rwanda_type_map"
   ]
  },
  {
   "cell_type": "markdown",
   "id": "ba88969a",
   "metadata": {},
   "source": [
    "### United States"
   ]
  },
  {
   "cell_type": "markdown",
   "id": "0cbd504a",
   "metadata": {},
   "source": [
    "#### Seattle Historic Landslide Locations ECA"
   ]
  },
  {
   "cell_type": "code",
   "execution_count": null,
   "id": "36612e4e",
   "metadata": {},
   "outputs": [],
   "source": [
    "#read Seattle `\n",
    "seattle = gpd.read_file('../Historic_Landslide_Locations_ECA.shp')\n"
   ]
  },
  {
   "cell_type": "code",
   "execution_count": null,
   "id": "7dca5b86",
   "metadata": {},
   "outputs": [],
   "source": [
    "def seattle_todatetime(row):\n",
    "    \n",
    "    #take only rows where we're confident that the date is correct\n",
    "    \n",
    "    if (row['DAY_'] is not None) & (row['DATECONFID'] == 'True'): \n",
    "            \n",
    "        try:\n",
    "            \n",
    "            t = row[['YEAR_', 'MONTH_', 'DAY_']].values.astype(int)\n",
    "\n",
    "            d = pd.to_datetime(datetime.datetime(*t))\n",
    "            \n",
    "        except:\n",
    "            d = np.nan\n",
    "                 \n",
    "    else:\n",
    "        d = np.nan\n",
    "        \n",
    "    return d\n",
    "\n",
    "seattle[\"DATE\"] = seattle.apply(lambda row:seattle_todatetime(row), axis = 1)\n"
   ]
  },
  {
   "cell_type": "code",
   "execution_count": null,
   "id": "47f034fa",
   "metadata": {},
   "outputs": [],
   "source": [
    "#preserve original index\n",
    "seattle['src_index'] = seattle.index\n",
    "\n",
    "#reset index to make sure we have unique and monotonic values\n",
    "seattle.reset_index(inplace = True, drop = True)\n",
    "\n",
    "#check if the crs is WGS84, and if not, reproject it\n",
    "\n",
    "if seattle.crs != 'EPSG:4326':\n",
    "    seattle.to_crs('EPSG:4326', inplace = True)\n",
    "    "
   ]
  },
  {
   "cell_type": "code",
   "execution_count": null,
   "id": "99cb34e4",
   "metadata": {},
   "outputs": [],
   "source": [
    "#trigger \n",
    "\n",
    "#Natural = trigger mechanism as being natural (Y) or human (N).  Precipitation is considered a natural trigger \n",
    "#whereas pipe breaks and excessive lawn watering are not #Natural = Y\n",
    "\n",
    "#groundwater/surface water = Y\n",
    "\n",
    "#null is \"Unknown\", #Natural_ = N is 'Human Activity'\n",
    "\n",
    "def seattle_trigger(row):\n",
    "    \n",
    "    #landslides are categorized as precipitation triggered where Natural is Y and groundwater/surface water is Y.\n",
    "    #this is conservative and should remove any cases of human activity or earthquakes\n",
    "    \n",
    "    if (row['NATURAL_'] == 'Y') & ((row['SURFACEWAT'] == \"Y\") | (row['GRNDWTR'] == 'Y')):\n",
    "        \n",
    "        trigger = 'Precipitation'\n",
    "        \n",
    "        \n",
    "    elif row['NATURAL_'] == 'N':\n",
    "        \n",
    "        trigger = 'Human Activity'\n",
    "        \n",
    "    else: \n",
    "        \n",
    "        trigger = \"Unknown\"\n",
    "        \n",
    "    return trigger\n"
   ]
  },
  {
   "cell_type": "code",
   "execution_count": null,
   "id": "312d55ef",
   "metadata": {},
   "outputs": [],
   "source": [
    "seattle['trigger'] = seattle.apply(lambda row:seattle_trigger(row), axis = 1)"
   ]
  },
  {
   "cell_type": "code",
   "execution_count": null,
   "id": "bf97977e",
   "metadata": {},
   "outputs": [],
   "source": [
    "def seattle_type(row):\n",
    "    \n",
    "    #if it's a debris flow, assign flow\n",
    "    \n",
    "    if row['DEBRISFLOW'] == 'Y':\n",
    "        \n",
    "        typ = \"Flow\"\n",
    "        \n",
    "    #Landslide TYPE\n",
    "        #HBP = high bluff peeloff = Slide\n",
    "        #SC = shallow colluvial = Slide\n",
    "        #DS = deep-seated = Slide\n",
    "        #BO = groundwater blowout = Slide \n",
    "    elif row['SLIDETYPE'] in ['HBP', 'SC', 'BO', 'DS']:\n",
    "        \n",
    "        typ = \"Slide\"\n",
    "        \n",
    "    else: \n",
    "        typ = 'Unknown'\n",
    "        \n",
    "    return typ\n",
    "\n"
   ]
  },
  {
   "cell_type": "code",
   "execution_count": null,
   "id": "a1ac27f5",
   "metadata": {},
   "outputs": [],
   "source": [
    "seattle['type'] = seattle.apply(lambda row:seattle_type(row), axis = 1)"
   ]
  },
  {
   "cell_type": "code",
   "execution_count": null,
   "id": "d05e16ec",
   "metadata": {},
   "outputs": [],
   "source": [
    "def seattle_material(row):\n",
    "    \n",
    "    #if it's a debris flow, assign flow\n",
    "    \n",
    "    if row['DEBRISFLOW'] == 'Y':\n",
    "        \n",
    "        material = \"Debris\"\n",
    "        \n",
    "    #Landslide TYPE\n",
    "        #HBP = high bluff peeloff = Slide\n",
    "        #SC = shallow colluvial = Slide\n",
    "        #DS = deep-seated = Slide\n",
    "        #BO = groundwater blowout = Slide \n",
    "    elif row['SLIDETYPE'] in ['HBP', 'SC', 'BO', 'DS']:\n",
    "        \n",
    "        material = 'Earth'\n",
    "        \n",
    "    else: \n",
    "        material = 'Unknown'\n",
    "        \n",
    "    return material\n"
   ]
  },
  {
   "cell_type": "code",
   "execution_count": null,
   "id": "529f2583",
   "metadata": {},
   "outputs": [],
   "source": [
    "seattle['material'] = seattle.apply(lambda row:seattle_material(row), axis = 1)"
   ]
  },
  {
   "cell_type": "code",
   "execution_count": null,
   "id": "34944c5f",
   "metadata": {},
   "outputs": [],
   "source": [
    "def seattle_spat(row):\n",
    "    \n",
    "    #if it's field checked, the location should be exact\n",
    "    \n",
    "    if row['FIELDCHECK'] == 'True': \n",
    "        \n",
    "        spat = 'Exact'\n",
    "    \n",
    "    #otherwise, it should still be within a km, these are from reports\n",
    "    else: \n",
    "        spat = '<1km'\n",
    "        \n",
    "    return spat\n",
    "    "
   ]
  },
  {
   "cell_type": "code",
   "execution_count": null,
   "id": "bb95d56e",
   "metadata": {},
   "outputs": [],
   "source": [
    "seattle['spat_unc'] = seattle.apply(lambda row:seattle_spat(row), axis = 1)"
   ]
  },
  {
   "cell_type": "code",
   "execution_count": null,
   "id": "f098760f",
   "metadata": {},
   "outputs": [],
   "source": [
    "seattle_s =  simplify_inventory(inventorydf = seattle, \n",
    "                                inventoryname = 'Seattle Historic Landslide Locations ECA', \n",
    "                                  inventory_id = 'OBJECTID', \n",
    "                                  trigger = 'trigger', \n",
    "                                  lstype = 'type',\n",
    "                                  material = 'material',\n",
    "                                  spat_unc = 'spat_unc', \n",
    "                                  src_url = 'https://data-seattlecitygis.opendata.arcgis.com/datasets/6ac72973a5784d90bda0a5f8a001d9f3_22/explore?location=47.616250%2C-122.328600%2C11.91', \n",
    "                                  date_accessed = '20220725', \n",
    "                                  citation = \"\"\"City of Seattle. (2022). Historical Landslide Locations ECA. City of Seattle.\"\"\", \n",
    "                                  license = 'PDDL License')\n"
   ]
  },
  {
   "cell_type": "code",
   "execution_count": null,
   "id": "255b5a47",
   "metadata": {},
   "outputs": [],
   "source": [
    "plot_lsinv(seattle.set_index(\"DATE\"), 'Seattle')"
   ]
  },
  {
   "cell_type": "markdown",
   "id": "4a7486a6",
   "metadata": {},
   "source": [
    "#### Digital Geodata Series DGS06-3 Landslides in New Jersey"
   ]
  },
  {
   "cell_type": "code",
   "execution_count": null,
   "id": "f7a85f32",
   "metadata": {},
   "outputs": [],
   "source": [
    "newjersey = gpd.read_file('/home/luna/Documents/04_Data/20220806_NewJersey/dgs06_3_njlandslides.gdb')"
   ]
  },
  {
   "cell_type": "code",
   "execution_count": null,
   "id": "0552683e",
   "metadata": {},
   "outputs": [],
   "source": [
    "#convert landslide time to datetime \n",
    "newjersey['DATE'] = newjersey['DAY']\n",
    "\n",
    "#remove strange dates\n",
    "newjersey.loc[newjersey['DAY']=='42479', 'DATE'] = None\n",
    "newjersey.loc[newjersey['DAY']=='42494', 'DATE'] = None\n",
    "newjersey.loc[newjersey['DAY']=='Unknown', 'DATE'] = None\n",
    "\n",
    "newjersey['DATE'] = pd.to_datetime(newjersey['DATE'])\n",
    "\n",
    "#preserve original index\n",
    "newjersey['src_index'] = newjersey.index\n",
    "\n",
    "#reset index to  make sure we have unique and monotonic values\n",
    "newjersey.reset_index(inplace = True, drop = True)\n",
    "\n",
    "#check if the crs is WGS84, and if not, reproject it\n",
    "\n",
    "if newjersey.crs != 'EPSG:4326':\n",
    "    newjersey.to_crs('EPSG:4326', inplace = True)\n"
   ]
  },
  {
   "cell_type": "code",
   "execution_count": null,
   "id": "89a27297",
   "metadata": {},
   "outputs": [],
   "source": [
    "#assign triggers to uniform naming scheme\n",
    "\n",
    "newjersey_trigger_map = {'Heavy rain':'Precipitation', \n",
    "                         'Fossil digging':'Human Activity',\n",
    "                         'Weathering':'Other',\n",
    "                         'Road construction removed toe':'Human Activity',\n",
    "                         'Heavy rain/weathering':'Precipitation',\n",
    "                         'Construction':'Human Activity',\n",
    "                         'Clay digging':'Human Activity',\n",
    "                         'Heavy rain/poor drainage':'Precipitation',\n",
    "                         'Heavy rain/broken sewer pipe':'Precipitation',\n",
    "                         'Fill material failure':'Human Activity',\n",
    "                         'Quarrying':'Human Activity',\n",
    "                         'Heavy rain/snowmelt':'Precipitation',\n",
    "                         'Atlantic Ocean wave action':'Other',\n",
    "                         'Vibration from railroad':'Human Activity',\n",
    "                         'River erosion':'Other',\n",
    "                         'Tree removal from slope':'Human Activity',\n",
    "                         'Mining':'Human Activity',\n",
    "                         'Unknown':'Unknown',\n",
    "                         'Heavy rain/broken storm drain':'Precipitation',\n",
    "                         'Water main break':'Human Activity'}\n",
    "\n",
    "\n",
    "newjersey['trigger'] = newjersey.apply(lambda row:newjersey_trigger_map[row['TRIGGER_']], axis = 1)\n"
   ]
  },
  {
   "cell_type": "code",
   "execution_count": null,
   "id": "d22008b9",
   "metadata": {},
   "outputs": [],
   "source": [
    "#assign type to uniform naming scheme\n",
    "newjersey_type_map = {'Rockslide':'Slide', \n",
    "                      'Debris flow':'Flow',\n",
    "                      'Rockfall':'Fall',\n",
    "                      'Slump':'Other'}\n",
    "\n",
    "\n",
    "newjersey['type'] = newjersey.apply(lambda row:newjersey_type_map[row['TYPE']], axis = 1)"
   ]
  },
  {
   "cell_type": "code",
   "execution_count": null,
   "id": "81114bd1",
   "metadata": {},
   "outputs": [],
   "source": [
    "\n",
    "#assign material to uniform naming scheme\n",
    "newjersey_material_map = {'Rockslide':'Rock', \n",
    "                          'Debris flow':'Debris',\n",
    "                          'Rockfall':'Rock',\n",
    "                          'Slump':'Earth'}\n",
    "\n",
    "\n",
    "newjersey['material'] = newjersey.apply(lambda row:newjersey_material_map[row['TYPE']], axis = 1)"
   ]
  },
  {
   "cell_type": "code",
   "execution_count": null,
   "id": "0ba758e7",
   "metadata": {},
   "outputs": [],
   "source": [
    "#assign spatial uncertainty to uniform naming scheme\n",
    "\n",
    "newjersey_uncert_map = {'Aerial photo':'<1km', \n",
    "                        'GPS':'Exact', \n",
    "                        'Air Photo':'<1km', \n",
    "                        ' ':'Unknown', \n",
    "                        ' Air Photo':'<1km',\n",
    "                        'Air Photo ':'<1km'}\n",
    "\n",
    "newjersey['spat_unc'] = newjersey.apply(lambda row:newjersey_uncert_map[row['LOCATION']], axis = 1)"
   ]
  },
  {
   "cell_type": "code",
   "execution_count": null,
   "id": "ff0c6075",
   "metadata": {},
   "outputs": [],
   "source": [
    "newjersey_s =  simplify_inventory(inventorydf = newjersey, \n",
    "                                inventoryname = 'Digital Geodata Series DGS06-3 Landslides In New Jersey', \n",
    "                                  inventory_id = 'ID', \n",
    "                                  trigger = 'trigger', \n",
    "                                  lstype = 'type',\n",
    "                                  material = 'material',                                \n",
    "                                  spat_unc = 'spat_unc', \n",
    "                                  src_url = 'https://www.state.nj.us/dep/njgs/geodata/dgs06-3.htm', \n",
    "                                  date_accessed = '20220806', \n",
    "                                  citation = \"\"\"New Jersey Department of Environmental Protection (NJDEP), New Jersey Geological Survey (NJGS) (2018). Landslides In New Jersey, Series DGS06-3, Edition 20180711 (Geol_landslide)\"\"\", \n",
    "                                  license = \"\"\"Digital data received from the NJDEP may not be reproduced or redistributed without all the metadata provided.\n",
    "3. Any maps, publications, reports, or other documents produced as a result of this project that utilize this digital data will credit the NJDEP's Geographic Information System (GIS) as the source of the data with the following credit/disclaimer: \"This (map/publication/report) was developed using New Jersey Department of Environmental Protection Geographic Information System digital data, but this secondary product has not been verified by NJDEP and is not state-authorized or endorsed.\"\"\")\n"
   ]
  },
  {
   "cell_type": "code",
   "execution_count": null,
   "id": "1ef041ec",
   "metadata": {},
   "outputs": [],
   "source": [
    "\n",
    "plot_lsinv(newjersey_s.set_index('DATE'), \"Digital Geodata Series DGS06-3 Landslides In New Jersey\")"
   ]
  },
  {
   "cell_type": "markdown",
   "id": "43501f97",
   "metadata": {},
   "source": [
    "#### Kentucky Geological Survey Landslide Inventory"
   ]
  },
  {
   "cell_type": "code",
   "execution_count": null,
   "id": "a09adaae",
   "metadata": {},
   "outputs": [],
   "source": [
    "kentucky = gpd.read_file('/home/luna/Documents/04_Data/20220906_Kentucky/KGS_Landslide_Inventory_exp.gdb', \n",
    "                        layer = 'KGS_landslide_inventory_data')"
   ]
  },
  {
   "cell_type": "code",
   "execution_count": null,
   "id": "0d485ef5",
   "metadata": {},
   "outputs": [],
   "source": [
    "kentucky.head()"
   ]
  },
  {
   "cell_type": "code",
   "execution_count": null,
   "id": "4b7dcfeb",
   "metadata": {},
   "outputs": [],
   "source": [
    "#convert landslide time to datetime \n",
    "kentucky['DATE'] = pd.to_datetime(kentucky['FailureDate'])\n",
    "\n",
    "\n",
    "#preserve original index\n",
    "kentucky['src_index'] = kentucky.index\n",
    "\n",
    "#reset index to  make sure we have unique and monotonic values\n",
    "kentucky.reset_index(inplace = True, drop = True)\n",
    "\n",
    "#check if the crs is WGS84, and if not, reproject it\n",
    "\n",
    "if kentucky.crs != 'EPSG:4326':\n",
    "    kentucky.to_crs('EPSG:4326', inplace = True)\n"
   ]
  },
  {
   "cell_type": "code",
   "execution_count": null,
   "id": "b44e8108",
   "metadata": {},
   "outputs": [],
   "source": [
    "#assign triggers to uniform naming scheme\n",
    "\n",
    "kentucky_trigger_map = {None:'Unknown', \n",
    "                        'heavy rainfall':'Precipitation',\n",
    "                        'removal of toe (erosion)':'Other',\n",
    "                        'renoval of toe (erosion)':'Other',\n",
    "                        'saturated ground':'Other',\n",
    "                        'abandoned mine filled up with water':'Human Activity',\n",
    "                        'excessive water, dipping bedrock':'Other',\n",
    "                        'oversteepening of slope':'Human Activity',\n",
    "                        'multiple factors':\"Other\",\n",
    "                        'saturated ground, overloading with fill':'Human Activity',\n",
    "                        'removal of toe (excavation)':'Human Activity',\n",
    "                        'excavation of ditchline, talus colluvium at base of mountain':'Human Activity',\n",
    "                        'improper compaction and grading':'Human Activity',\n",
    "                        'high infiltration rates-seepage':'Precipitation',\n",
    "                        'flooding (rapid drawdown)':'Other',\n",
    "                        'deterioration of fill in construction':'Human Activity',\n",
    "                        'movement along saturaed soil-dipping bedrock interface':'Other',\n",
    "                        'large amounts of groundwater, jointing, dip of rocks, sliding on shale':'Other',\n",
    "                        'erosion and rapid drawdown':'Other',\n",
    "                        'excavation of material from hill during construction':'Human Activity',\n",
    "                        'excavation of toe of existing slope':'Human Activity',\n",
    "                        'rapid drawdown of river after heavy rains, erosion of toe':'Other',\n",
    "                        'surface drainage':'Other', \n",
    "                        'drawdown conditions of Rough River Lake':'Other',\n",
    "                        'blocked drainage structures':'Other',\n",
    "                        'reduction in shear strength of embankment material, saturation at base':'Other',\n",
    "                        'freeze thaw, cutbank':'Other',\n",
    "                        'subsurface drainage':'Other',\n",
    "                        'weathering of clay-like shale':'Other',\n",
    "                        'rain and snowfall':'Precipitation',\n",
    "                        'saturated fill, settlement, washing out of fines':'Other',\n",
    "                        'heavy rainfall, snowmelt':'Precipitation', \n",
    "                        'heavy rainfall, slope modification':'Precipitation',\n",
    "                        'weathered shale at base of slope, resistant sandstone above':'Other',\n",
    "                        'erosion of culvert':'Other', \n",
    "                        'dip slope':'Other',\n",
    "                        'excess water and rapid drawdown':'Other',\n",
    "                        'cutbank':'Other'}\n",
    "\n",
    "\n",
    "kentucky['trigger'] = kentucky.apply(lambda row:kentucky_trigger_map[row['Contributing_Factor']], axis = 1)\n",
    "\n"
   ]
  },
  {
   "cell_type": "code",
   "execution_count": null,
   "id": "f3d15fda",
   "metadata": {},
   "outputs": [],
   "source": [
    "#assign type to uniform naming scheme\n",
    "kentucky_type_map = {'landslide':'Slide', \n",
    "                     'fall':'Fall',\n",
    "                     'slide':'Slide',\n",
    "                     None:'Unknown',\n",
    "                     'flow':'Flow',\n",
    "                     'rockslide':'Slide'}\n",
    "\n",
    "\n",
    "kentucky['type'] = kentucky.apply(lambda row:kentucky_type_map[row['General_Type']], axis = 1)"
   ]
  },
  {
   "cell_type": "code",
   "execution_count": null,
   "id": "9b8ce250",
   "metadata": {},
   "outputs": [],
   "source": [
    "#assign material to uniform naming scheme\n",
    "kentucky_material_map = {None:'Unknown', \n",
    "                         'soil/mud':'Earth',\n",
    "                         'rock':'Rock',\n",
    "                         'weathered rock':'Rock',\n",
    "                         'fill':'Earth',\n",
    "                         'soil and rock':'Earth',\n",
    "                         'earth':'Earth',\n",
    "                         'mine spoil':'Other'}\n",
    "\n",
    "\n",
    "kentucky['material'] = kentucky.apply(lambda row:kentucky_material_map[row['Material']], axis = 1)\n"
   ]
  },
  {
   "cell_type": "code",
   "execution_count": null,
   "id": "4d332d46",
   "metadata": {},
   "outputs": [],
   "source": [
    "kentucky['Confidence'].unique()"
   ]
  },
  {
   "cell_type": "markdown",
   "id": "6d827afe",
   "metadata": {},
   "source": [
    "8 – High confidence that the nature and/or spatial extent of the landslide is well characterized\n",
    "This highest confidence level is typically based on detailed field observations and/or expert analysis of high-resolution topographic data or aerial imagery to characterize the landslide.\n",
    "\n",
    "5 – Confident that a consequential landslide took place at the specified location\n",
    "This level of characterization still involves high confidence that a landslide took place at the specified location as evidenced by fatalities and/or damage to infrastructure, but detailed observations of landslide features are not described in the geodatabase.\n",
    "\n",
    "3 - Landslide likely at or near the specified location\n",
    "This middle confidence level reflects a known landslide occurred with lower certainty on the exact position or nature of the slope failure. These typically include verified landslides on lower resolution topographic maps or aerial imagery and landslide data that predates digital topography and precise global positioning systems "
   ]
  },
  {
   "cell_type": "code",
   "execution_count": null,
   "id": "8f7f85ad",
   "metadata": {},
   "outputs": [],
   "source": [
    "# 8 = 'Exact'\n",
    "# 5 = 'Exact'\n",
    "# 3 = '<1km'\n",
    "\n",
    "\n",
    "#assign spatial uncertainty to uniform naming scheme\n",
    "\n",
    "kentucky_uncert_map = {8:'Exact', \n",
    "                      5:'Exact', \n",
    "                      3:'<1km'}\n",
    "\n",
    "kentucky['spat_unc'] = kentucky.apply(lambda row:kentucky_uncert_map[row['Confidence']], axis = 1)"
   ]
  },
  {
   "cell_type": "code",
   "execution_count": null,
   "id": "8991539e",
   "metadata": {},
   "outputs": [],
   "source": [
    "kentucky_s =  simplify_inventory(inventorydf = kentucky, \n",
    "                                inventoryname = 'Kentucky Geological Survey Landslide Inventory', \n",
    "                                  inventory_id = 'ID', \n",
    "                                  trigger = 'trigger', \n",
    "                                  lstype = 'type',\n",
    "                                  material = 'material',                                \n",
    "                                  spat_unc = 'spat_unc', \n",
    "                                  src_url = 'https://doi.org/10.13023/kgs.data.2022.01', \n",
    "                                  date_accessed = '20220906', \n",
    "                                  citation = \"\"\"Crawford, M.M., 2022. Kentucky Geological Survey landslide inventory [2022-01]: Kentucky Geological Survey Research Data, https://doi.org/10.13023/kgs.data.2022.01.\"\"\", \n",
    "                                  license = \"\"\"Creative Commons Attribution 4.0 International License (https://creativecommons.org/licenses/by/4.0/)\"\"\")\n"
   ]
  },
  {
   "cell_type": "code",
   "execution_count": null,
   "id": "53614b92",
   "metadata": {},
   "outputs": [],
   "source": [
    "plot_lsinv(kentucky_s.set_index('DATE'), \"Kentucky Geological Survey Landslide Inventory\")"
   ]
  },
  {
   "cell_type": "markdown",
   "id": "6a5b63f7",
   "metadata": {},
   "source": [
    "### Combine"
   ]
  },
  {
   "cell_type": "code",
   "execution_count": null,
   "id": "7edb8a49",
   "metadata": {},
   "outputs": [],
   "source": [
    "#concatenate individual inventories\n",
    "compilation = pd.concat([nasaglc_s, \n",
    "                         gfld_s,\n",
    "                         australia_s,\n",
    "                         colombia_s,\n",
    "                         franeitalia_s,\n",
    "                         kentucky_s,\n",
    "                         newjersey_s,\n",
    "                         newzealand_s,\n",
    "                         rwanda_s, \n",
    "                         seattle_s], \n",
    "                         axis = 0)\n",
    "\n",
    "#reset index\n",
    "compilation.reset_index(inplace = True, drop = True)\n"
   ]
  },
  {
   "cell_type": "code",
   "execution_count": null,
   "id": "08d6e0ee",
   "metadata": {},
   "outputs": [],
   "source": [
    "def remove_tzaware(row):\n",
    "    \n",
    "    if row['DATE'].tzinfo is None:\n",
    "        d = row['DATE']\n",
    "        \n",
    "    else:\n",
    "        d = row['DATE'].tz_convert(None)\n",
    "        \n",
    "    return d\n",
    "                    "
   ]
  },
  {
   "cell_type": "code",
   "execution_count": null,
   "id": "48b0f08e",
   "metadata": {},
   "outputs": [],
   "source": [
    "#strip the time stamps of their time zone aware info (because none of these are actually tz aware)\n",
    "compilation['DATE'] = compilation.apply(lambda row:remove_tzaware(row), axis = 1)"
   ]
  },
  {
   "cell_type": "code",
   "execution_count": null,
   "id": "4f517a4a",
   "metadata": {},
   "outputs": [],
   "source": [
    "plot_lsinv(compilation.set_index('DATE'), 'Compilation')"
   ]
  },
  {
   "cell_type": "code",
   "execution_count": null,
   "id": "79f98cb8",
   "metadata": {},
   "outputs": [],
   "source": [
    "compilation.to_pickle('../01_Data/compilation.pkl')"
   ]
  },
  {
   "cell_type": "code",
   "execution_count": null,
   "id": "ff9356cc",
   "metadata": {},
   "outputs": [],
   "source": [
    "compilation = pd.read_pickle('../01_Data/compilation.pkl')"
   ]
  },
  {
   "cell_type": "markdown",
   "id": "efc3d883",
   "metadata": {},
   "source": [
    "### Subset to urban areas, rainfall triggered landslides, and daily time stamp"
   ]
  },
  {
   "cell_type": "markdown",
   "id": "ca0f9120",
   "metadata": {},
   "source": [
    "**Global Human Settlement Layer Urban Centre Database**\n",
    "\n",
    "Available at http://data.europa.eu/89h/53473144-b88c-44bc-b4a3-4583ed1f547e\n",
    "\n",
    "Florczyk, A. et al. GHS Urban Centre Database 2015, multitemporal and multidimensional attributes, R2019A, v1.2. https://data.jrc.ec.europa.eu/dataset/53473144-b88c-44bc-b4a3-4583ed1f547e (2019)."
   ]
  },
  {
   "cell_type": "code",
   "execution_count": null,
   "id": "7a839f23",
   "metadata": {},
   "outputs": [],
   "source": [
    "#Read GHS UCDB\n",
    "urban = gpd.read_file('../GHS_STAT_UCDB2015MT_GLOBE_R2019A_V1_2/GHS_STAT_UCDB2015MT_GLOBE_R2019A/GHS_STAT_UCDB2015MT_GLOBE_R2019A_V1_2.gpkg', \n",
    "                       layer = 'GHS_STAT_UCDB2015MT_GLOBE_R2019A_V1_2')"
   ]
  },
  {
   "cell_type": "code",
   "execution_count": null,
   "id": "0fc7843c",
   "metadata": {},
   "outputs": [],
   "source": [
    "### Subset to urban areas\n",
    "\n",
    "#simplify GHS UCDB - keep naming information\n",
    "\n",
    "urban = urban.loc[:, ['ID_HDC_G0', 'AREA', 'CTR_MN_ISO', 'GRGN_L1', 'GRGN_L2', 'UC_NM_MN', 'UC_NM_LST', \n",
    "                      'CTR_MN_NM', 'geometry']]\n",
    "\n",
    "#check that the crs are the same \n",
    "if compilation.crs == urban.crs:\n",
    "    \n",
    "    #join the attributes from the urban areas polygons to the landslide points\n",
    "\n",
    "    join_comp_urban = gpd.sjoin(compilation, urban, how = \"left\")\n",
    "\n",
    "    #get only the landslides that occurred in urban areas\n",
    "    ls_urban = join_comp_urban[join_comp_urban['ID_HDC_G0'].notna()].copy()\n",
    "    \n",
    "else: \n",
    "    print(\"CRS do not match\")"
   ]
  },
  {
   "cell_type": "code",
   "execution_count": null,
   "id": "02e76747",
   "metadata": {},
   "outputs": [],
   "source": [
    "#subset to rainfall triggered with time stamps"
   ]
  },
  {
   "cell_type": "code",
   "execution_count": null,
   "id": "b6bdb0de",
   "metadata": {},
   "outputs": [],
   "source": [
    "ls_urban_ts_rf = ls_urban[(ls_urban['trigger'] == 'Precipitation') & (ls_urban['DATE'].notna())].copy()"
   ]
  },
  {
   "cell_type": "markdown",
   "id": "b1a14d7d",
   "metadata": {},
   "source": [
    "### Remove duplicates"
   ]
  },
  {
   "cell_type": "markdown",
   "id": "c70505cc",
   "metadata": {},
   "source": [
    "remove duplicates - a landslide counts as a duplicate when it is within 0.0001 degree and on the same day as another landslide in the compilation "
   ]
  },
  {
   "cell_type": "code",
   "execution_count": null,
   "id": "1f006b32",
   "metadata": {},
   "outputs": [],
   "source": [
    "ls_urban_ts_rf['lat_round'] = ls_urban_ts_rf.geometry.y.round(5)\n",
    "ls_urban_ts_rf['long_round'] = ls_urban_ts_rf.geometry.x.round(5)"
   ]
  },
  {
   "cell_type": "code",
   "execution_count": null,
   "id": "26e82ad5",
   "metadata": {},
   "outputs": [],
   "source": [
    "ls_urban_ts_rf_u = ls_urban_ts_rf.loc[~ls_urban_ts_rf.duplicated(subset = ['DATE', 'lat_round', 'long_round'], keep = 'last')].copy()"
   ]
  },
  {
   "cell_type": "code",
   "execution_count": null,
   "id": "6f25c1c4",
   "metadata": {},
   "outputs": [],
   "source": [
    "ls_urban_ts_rf_u.drop(['lat_round', 'long_round'],axis = 1,\n",
    "                      inplace = True)"
   ]
  },
  {
   "cell_type": "markdown",
   "id": "006e80a5",
   "metadata": {},
   "source": [
    "### Assign a timestamp at local midnight and convert to UTC"
   ]
  },
  {
   "cell_type": "code",
   "execution_count": null,
   "id": "2e9e79cb",
   "metadata": {},
   "outputs": [],
   "source": [
    "#assign a timestamp at midnight on the day of occurrence local time and convert it to UTC\n",
    "\n",
    "#set the time of landslide occurrence to 12:00 am local time on the date of occurrence \n",
    "\n",
    "ls_urban_ts_rf_u['date_local_midnight'] = pd.to_datetime(ls_urban_ts_rf_u['DATE'].dt.strftime('%Y-%m-%d'))\n",
    "\n",
    "#get the landslide's timezone from it's latitude and longitude\n",
    "\n",
    "#initialize a timezone finder object\n",
    "tf = TimezoneFinder()\n",
    "\n",
    "#get timezone for all landslide points from their latitude and longitude\n",
    "ls_urban_ts_rf_u['timezone'] = ls_urban_ts_rf_u.apply(lambda row: tf.timezone_at(lng=row.geometry.x, lat=row.geometry.y), \n",
    "                                            axis = 1)\n",
    "\n",
    "#localize the local midnight date\n",
    "\n",
    "ls_urban_ts_rf_u['date_local_midnight'] = ls_urban_ts_rf_u.apply(lambda row: row['date_local_midnight'].tz_localize(row['timezone']), axis = 1)\n",
    "\n",
    "\n",
    "#convert the local midnight date to UTC\n",
    "\n",
    "ls_urban_ts_rf_u['date_local_midnight_utc'] = ls_urban_ts_rf_u.apply(lambda row: row['date_local_midnight'].tz_convert('UTC'), axis = 1)\n"
   ]
  },
  {
   "cell_type": "markdown",
   "id": "7e603f55",
   "metadata": {},
   "source": [
    "### Save the subset inventory for further analysis"
   ]
  },
  {
   "cell_type": "code",
   "execution_count": null,
   "id": "9e0b265d",
   "metadata": {},
   "outputs": [],
   "source": [
    "ls_urban_ts_rf_u.to_pickle('ls_urban_ts_rf_u.pkl')"
   ]
  },
  {
   "cell_type": "markdown",
   "id": "8f65d3c4",
   "metadata": {},
   "source": [
    "### Save the number of landslides in each city to make Figure 1"
   ]
  },
  {
   "cell_type": "code",
   "execution_count": null,
   "id": "6571aefc",
   "metadata": {},
   "outputs": [],
   "source": [
    "urban = gpd.read_file('../GHS_STAT_UCDB2015MT_GLOBE_R2019A_V1_2/GHS_STAT_UCDB2015MT_GLOBE_R2019A/GHS_STAT_UCDB2015MT_GLOBE_R2019A_V1_2.gpkg', \n",
    "                       layer = 'GHS_STAT_UCDB2015MT_GLOBE_R2019A_V1_2')\n",
    "\n",
    "\n",
    "#save this info to make figure 1 bubble plot\n",
    "\n",
    "urbancoords = urban.loc[:, ['ID_HDC_G0','GCPNT_LAT', 'GCPNT_LON', \n",
    "                            'E_WR_P_14', 'EL_AV_ALS', 'E_KG_NM_LST',\n",
    "                           'B15', \n",
    "                           'P15', 'INCM_CMI']]\n",
    "\n",
    "#save this information for making bubble plot for figure 1\n",
    "\n",
    "#get count of urban landslides in each city\n",
    "nls_rf_per_city = ls_urban_ts_rf_u.groupby(['ID_HDC_G0', 'UC_NM_MN', 'CTR_MN_NM']).count()['src_index'].sort_values(ascending = False)\n",
    "\n",
    "nls_rf_per_city_plot = pd.DataFrame(nls_rf_per_city)\n",
    "\n",
    "nls_rf_per_city_plot.reset_index(inplace = True)\n",
    "\n",
    "nls_rf_per_city_plot['nls'] = nls_rf_per_city_plot['src_index']\n",
    "nls_rf_per_city_plot.drop('src_index', axis = 1, inplace = True)\n",
    "\n",
    "nls_rf_per_city_plot = pd.merge(nls_rf_per_city_plot, \n",
    "                            urbancoords, \n",
    "                            how = 'left', \n",
    "                            on = 'ID_HDC_G0')\n",
    "\n",
    "\n",
    "nls_rf_per_city_plot['city'] = nls_rf_per_city_plot.apply(lambda row:''.join(e for e in row['UC_NM_MN'] if e.isalnum()), axis = 1)\n",
    "\n",
    "\n",
    "nls_rf_per_city_plot.to_csv('nls_rf_per_city_plot.csv')\n",
    "\n"
   ]
  }
 ],
 "metadata": {
  "kernelspec": {
   "display_name": "Python 3 (ipykernel)",
   "language": "python",
   "name": "python3"
  },
  "language_info": {
   "codemirror_mode": {
    "name": "ipython",
    "version": 3
   },
   "file_extension": ".py",
   "mimetype": "text/x-python",
   "name": "python",
   "nbconvert_exporter": "python",
   "pygments_lexer": "ipython3",
   "version": "3.9.13"
  }
 },
 "nbformat": 4,
 "nbformat_minor": 5
}
